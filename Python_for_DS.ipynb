{
  "nbformat": 4,
  "nbformat_minor": 0,
  "metadata": {
    "colab": {
      "name": "Python_for_DS.ipynb",
      "provenance": [],
      "collapsed_sections": [
        "J4FFnXW9l_K6"
      ],
      "authorship_tag": "ABX9TyOnTk8p620nvdkrTe5pFgtR",
      "include_colab_link": true
    },
    "kernelspec": {
      "name": "python3",
      "display_name": "Python 3"
    }
  },
  "cells": [
    {
      "cell_type": "markdown",
      "metadata": {
        "id": "view-in-github",
        "colab_type": "text"
      },
      "source": [
        "<a href=\"https://colab.research.google.com/github/in04436r/Python_Fundamentals/blob/master/Python_for_DS.ipynb\" target=\"_parent\"><img src=\"https://colab.research.google.com/assets/colab-badge.svg\" alt=\"Open In Colab\"/></a>"
      ]
    },
    {
      "cell_type": "markdown",
      "metadata": {
        "id": "UAe5bKWsCj20",
        "colab_type": "text"
      },
      "source": [
        "Date : 15-09-2020\n",
        "\n",
        "This notebook is a handy guide for some useful tips and tricks used in Python for applying Data Science.\n",
        "\n",
        "Happy learning! :)"
      ]
    },
    {
      "cell_type": "markdown",
      "metadata": {
        "id": "J4FFnXW9l_K6",
        "colab_type": "text"
      },
      "source": [
        "# **Module 1 : Python Fundamentals**"
      ]
    },
    {
      "cell_type": "markdown",
      "metadata": {
        "id": "CDBcJZcD8rIR",
        "colab_type": "text"
      },
      "source": [
        "Important Functions : assert, return, pass, yeild, break,continue,del,continue\n"
      ]
    },
    {
      "cell_type": "code",
      "metadata": {
        "id": "iWfAdEkz87ax",
        "colab_type": "code",
        "colab": {}
      },
      "source": [
        ""
      ],
      "execution_count": null,
      "outputs": []
    },
    {
      "cell_type": "markdown",
      "metadata": {
        "id": "ePya5-By9MDF",
        "colab_type": "text"
      },
      "source": [
        "Dict, List, Tupule, Set : Types"
      ]
    },
    {
      "cell_type": "code",
      "metadata": {
        "id": "en55ZOzMB4D9",
        "colab_type": "code",
        "colab": {}
      },
      "source": [
        ""
      ],
      "execution_count": null,
      "outputs": []
    },
    {
      "cell_type": "markdown",
      "metadata": {
        "id": "4oWjNfpIDGB_",
        "colab_type": "text"
      },
      "source": [
        "**Printing in Python**"
      ]
    },
    {
      "cell_type": "markdown",
      "metadata": {
        "id": "w-hNW-HIDBch",
        "colab_type": "text"
      },
      "source": [
        "Simple Print Statement\n"
      ]
    },
    {
      "cell_type": "code",
      "metadata": {
        "id": "hDaXJAEL9PLP",
        "colab_type": "code",
        "colab": {
          "base_uri": "https://localhost:8080/",
          "height": 35
        },
        "outputId": "2332bc25-1eab-4d98-bb04-84557e51390d"
      },
      "source": [
        "print(\"Hello World\")"
      ],
      "execution_count": null,
      "outputs": [
        {
          "output_type": "stream",
          "text": [
            "Hello World\n"
          ],
          "name": "stdout"
        }
      ]
    },
    {
      "cell_type": "markdown",
      "metadata": {
        "id": "Oj1jptwxBxAU",
        "colab_type": "text"
      },
      "source": [
        "Fstring formatting"
      ]
    },
    {
      "cell_type": "code",
      "metadata": {
        "id": "8WTrrdhhBDdm",
        "colab_type": "code",
        "colab": {
          "base_uri": "https://localhost:8080/",
          "height": 35
        },
        "outputId": "46a74e04-908c-40c5-beed-6ac3988ec4bb"
      },
      "source": [
        "var=\"Shubho\"\n",
        "print(f\"My name is {var}\")"
      ],
      "execution_count": null,
      "outputs": [
        {
          "output_type": "stream",
          "text": [
            "My name is Shubho\n"
          ],
          "name": "stdout"
        }
      ]
    },
    {
      "cell_type": "markdown",
      "metadata": {
        "id": "bK-GR6OfC8v5",
        "colab_type": "text"
      },
      "source": [
        "Using Print as a function\n"
      ]
    },
    {
      "cell_type": "code",
      "metadata": {
        "id": "Jz-rNNTaBYkE",
        "colab_type": "code",
        "colab": {
          "base_uri": "https://localhost:8080/",
          "height": 90
        },
        "outputId": "7beb64c6-021b-450f-c173-343fa2b24f48"
      },
      "source": [
        "print(\"Shubho\",\"Dey\",sep=\",\")\n",
        "print(\"Shubho\",\"Dey\",sep=\"+\")\n",
        "print(\"Shubho\",\"Dey\",sep=\".\")\n",
        "print(\"Shubho\",\"Dey\",sep=\"/\")"
      ],
      "execution_count": null,
      "outputs": [
        {
          "output_type": "stream",
          "text": [
            "Shubho,Dey\n",
            "Shubho+Dey\n",
            "Shubho.Dey\n",
            "Shubho/Dey\n"
          ],
          "name": "stdout"
        }
      ]
    },
    {
      "cell_type": "markdown",
      "metadata": {
        "id": "7OJ-hPHmDkPb",
        "colab_type": "text"
      },
      "source": [
        "**Math Operations in Python**"
      ]
    },
    {
      "cell_type": "markdown",
      "metadata": {
        "id": "E4Q4fx0AGXAw",
        "colab_type": "text"
      },
      "source": [
        "Simple calculations"
      ]
    },
    {
      "cell_type": "code",
      "metadata": {
        "id": "rvUgEHzHDnh4",
        "colab_type": "code",
        "colab": {
          "base_uri": "https://localhost:8080/",
          "height": 35
        },
        "outputId": "3741eb8c-77e8-4f56-df77-54e7ffac6533"
      },
      "source": [
        "total_weight=200.0\n",
        "total_fat=20.0\n",
        "fat_percentage = (total_fat/total_weight)*100\n",
        "print(f\"the fat percentage is {fat_percentage} %\")"
      ],
      "execution_count": null,
      "outputs": [
        {
          "output_type": "stream",
          "text": [
            "the fat percentage is 10.0 %\n"
          ],
          "name": "stdout"
        }
      ]
    },
    {
      "cell_type": "markdown",
      "metadata": {
        "id": "n-egoDkMGj34",
        "colab_type": "text"
      },
      "source": [
        "Calculations including specific math functions\n"
      ]
    },
    {
      "cell_type": "code",
      "metadata": {
        "id": "hlKCBV7nFtIG",
        "colab_type": "code",
        "colab": {
          "base_uri": "https://localhost:8080/",
          "height": 35
        },
        "outputId": "7b9c22bf-81a9-40fa-81f5-3e29e2c17abb"
      },
      "source": [
        "from decimal import (Decimal,getcontext)\n",
        "getcontext().prec=9\n",
        "out=Decimal(1)/Decimal(7)\n",
        "print(f\"{out}\")\n"
      ],
      "execution_count": null,
      "outputs": [
        {
          "output_type": "stream",
          "text": [
            "0.142857143\n"
          ],
          "name": "stdout"
        }
      ]
    },
    {
      "cell_type": "markdown",
      "metadata": {
        "id": "59pcswF-HI3G",
        "colab_type": "text"
      },
      "source": [
        "Using exponents in two different ways\n"
      ]
    },
    {
      "cell_type": "code",
      "metadata": {
        "id": "MSO9DnLaGUEy",
        "colab_type": "code",
        "colab": {
          "base_uri": "https://localhost:8080/",
          "height": 53
        },
        "outputId": "aa80893a-675b-4b49-c65d-c39616337674"
      },
      "source": [
        "import math\n",
        "res=math.pow(3,2)\n",
        "print(res)\n",
        "\n",
        "a=3**2\n",
        "print(a)"
      ],
      "execution_count": null,
      "outputs": [
        {
          "output_type": "stream",
          "text": [
            "9.0\n",
            "9\n"
          ],
          "name": "stdout"
        }
      ]
    },
    {
      "cell_type": "markdown",
      "metadata": {
        "id": "9_KYEERbHzMg",
        "colab_type": "text"
      },
      "source": [
        "**Types of data in Python : the TYPE function**\n"
      ]
    },
    {
      "cell_type": "code",
      "metadata": {
        "id": "g_bzaI-8H4Il",
        "colab_type": "code",
        "colab": {
          "base_uri": "https://localhost:8080/",
          "height": 144
        },
        "outputId": "ecbfa396-ad76-4588-a1b0-01de52378023"
      },
      "source": [
        "num=100\n",
        "num_type=type(num).__name__\n",
        "print(f\"{num} has a type {num_type}\")\n",
        "\n",
        "num=10.0\n",
        "num_type=type(num).__name__\n",
        "print(f\"{num} has a type {num_type}\")\n",
        "\n",
        "num=\"Shubho\"\n",
        "num_type=type(num).__name__\n",
        "print(f\"{num} has a type {num_type}\")\n",
        "\n",
        "num=[\"Shubho\",\"Dey\"]\n",
        "num_type=type(num).__name__\n",
        "print(f\"{num} has a type {num_type}\")\n",
        "\n",
        "num=(1,3,4,5)\n",
        "num_type=type(num).__name__\n",
        "print(f\"{num} has a type {num_type}\")\n",
        "\n",
        "num={\"Shubho\": 1, \"Dey\":2}\n",
        "num_type=type(num).__name__\n",
        "print(f\"{num} has a type {num_type}\")\n",
        "\n",
        "class New:pass\n",
        "num_type=type(New).__name__\n",
        "print(f\"{New} has a  {num_type}\")"
      ],
      "execution_count": null,
      "outputs": [
        {
          "output_type": "stream",
          "text": [
            "100 has a type int\n",
            "10.0 has a type float\n",
            "Shubho has a type str\n",
            "['Shubho', 'Dey'] has a type list\n",
            "(1, 3, 4, 5) has a type tuple\n",
            "{'Shubho': 1, 'Dey': 2} has a type dict\n",
            "<class '__main__.New'> has a  type\n"
          ],
          "name": "stdout"
        }
      ]
    },
    {
      "cell_type": "markdown",
      "metadata": {
        "id": "zpJwU18lTW8-",
        "colab_type": "text"
      },
      "source": [
        "**Comparing different approaches for same operations** "
      ]
    },
    {
      "cell_type": "markdown",
      "metadata": {
        "id": "DY5S1Nj1TE2Y",
        "colab_type": "text"
      },
      "source": [
        "using the `%timeit` magic function we can check the time each approach takes for the same operation of rounding up numbers to 6 decimal places."
      ]
    },
    {
      "cell_type": "code",
      "metadata": {
        "id": "SP0gkXt1R0rD",
        "colab_type": "code",
        "colab": {
          "base_uri": "https://localhost:8080/",
          "height": 108
        },
        "outputId": "ba6c917d-3ee6-4ca9-9132-2d740c28b1b7"
      },
      "source": [
        "import numpy as np\n",
        "import pandas as pd\n",
        "\n",
        "dec=1.9876543245367\n",
        "\n",
        "%timeit round(dec,6) # this is the fastest approach\n",
        "\n",
        "%timeit np.round(dec,decimals=6)\n",
        "\n",
        "df=pd.DataFrame(dec,index=['first'],columns=['A'])\n",
        "%timeit df.round(6)"
      ],
      "execution_count": null,
      "outputs": [
        {
          "output_type": "stream",
          "text": [
            "The slowest run took 22.80 times longer than the fastest. This could mean that an intermediate result is being cached.\n",
            "1000000 loops, best of 3: 489 ns per loop\n",
            "The slowest run took 27.18 times longer than the fastest. This could mean that an intermediate result is being cached.\n",
            "100000 loops, best of 3: 8.74 µs per loop\n",
            "1000 loops, best of 3: 946 µs per loop\n"
          ],
          "name": "stdout"
        }
      ]
    },
    {
      "cell_type": "markdown",
      "metadata": {
        "id": "IqxirxHnZoJa",
        "colab_type": "text"
      },
      "source": [
        "**Simple program to illustrate the get and set concepts in a class**\n",
        "\n",
        "\n",
        "> Indented block\n",
        "\n",
        "\n",
        "We use the below class to round up numbers based on used instantiated objects of the class. The set property is used to initialise the objects and get property is used to fetch the result\n",
        "\n"
      ]
    },
    {
      "cell_type": "code",
      "metadata": {
        "id": "WuPD6NtOR9HR",
        "colab_type": "code",
        "colab": {
          "base_uri": "https://localhost:8080/",
          "height": 53
        },
        "outputId": "4a18c1e5-91f7-4857-9054-1b0bc7f8de24"
      },
      "source": [
        "class Roundup:\n",
        "  def __init__(self,dec=2.5):\n",
        "    self.dec= dec\n",
        "  \n",
        "  def result (self):\n",
        "    return(round(self.dec,3)) #this self.dec refers to the decimal argument passed in the initial function\n",
        "\n",
        "#initialising an object for Roundup class\n",
        "ip = Roundup()\n",
        "\n",
        "#Set an user issued value for the decimal\n",
        "ip.dec=1.876547\n",
        "print(\"the user issued input:\",ip.dec)\n",
        "#Get the output using the user issued value\n",
        "print(\"output for the user issued input:\",ip.result())"
      ],
      "execution_count": null,
      "outputs": [
        {
          "output_type": "stream",
          "text": [
            "the user issued input: 1.876547\n",
            "output for the user issued input: 1.877\n"
          ],
          "name": "stdout"
        }
      ]
    },
    {
      "cell_type": "markdown",
      "metadata": {
        "id": "nl63pQXUmOfe",
        "colab_type": "text"
      },
      "source": [
        "@property attribiute in Python"
      ]
    },
    {
      "cell_type": "code",
      "metadata": {
        "id": "B-gwwjrmanao",
        "colab_type": "code",
        "colab": {
          "base_uri": "https://localhost:8080/",
          "height": 53
        },
        "outputId": "25372474-9fba-41b4-d689-9d187df158de"
      },
      "source": [
        "class Foo:\n",
        "  \n",
        "  @property\n",
        "  def superman(self): #attribiute\n",
        "    return \"kent\"\n",
        "\n",
        "foo=Foo()\n",
        "#this returns the initiated property(superman)\n",
        "print(\"Initiated Property:\",foo.superman)\n",
        "#this initiates new property (not_superman)\n",
        "foo.not_superman=\"Wayne\"\n",
        "foo.__dict__ #returns the new property as a dictionary\n",
        "foo.not_superman=\"Prince\"\n",
        "foo.__dict__ #overides the previous value of Wayne, returns Prince.\n",
        "#foo.superman=\"Jordan\" #cant change the attribiute as its a @property."
      ],
      "execution_count": null,
      "outputs": [
        {
          "output_type": "stream",
          "text": [
            "Initiated Property: kent\n"
          ],
          "name": "stdout"
        },
        {
          "output_type": "execute_result",
          "data": {
            "text/plain": [
              "{'not_superman': 'Prince'}"
            ]
          },
          "metadata": {
            "tags": []
          },
          "execution_count": 64
        }
      ]
    },
    {
      "cell_type": "markdown",
      "metadata": {
        "id": "Fu01nBPRmbol",
        "colab_type": "text"
      },
      "source": [
        "# **Module 2 : Strings**"
      ]
    },
    {
      "cell_type": "markdown",
      "metadata": {
        "id": "ZrrEGwmrm9Jf",
        "colab_type": "text"
      },
      "source": [
        "Strings are a collection of numbers, alphabets, blank spaces, special characters etc that are grouped together and treated as a datatype in Python.\n",
        "Strings can be used in single quotes and doubles quotes interchangeably in Python as they yeild the same result."
      ]
    },
    {
      "cell_type": "code",
      "metadata": {
        "id": "3F1Cpx6pcNNb",
        "colab_type": "code",
        "colab": {
          "base_uri": "https://localhost:8080/",
          "height": 35
        },
        "outputId": "e4b3c230-87c5-4e87-db0f-fa5f0fb39b73"
      },
      "source": [
        "'Hello World'==\"Hello World\""
      ],
      "execution_count": null,
      "outputs": [
        {
          "output_type": "execute_result",
          "data": {
            "text/plain": [
              "True"
            ]
          },
          "metadata": {
            "tags": []
          },
          "execution_count": 65
        }
      ]
    },
    {
      "cell_type": "markdown",
      "metadata": {
        "id": "yDUZk9OvnZrV",
        "colab_type": "text"
      },
      "source": [
        "Python allows multiline strings as well. They are represented with triple quotes ('''). This is handy when commenting one's code."
      ]
    },
    {
      "cell_type": "code",
      "metadata": {
        "id": "dP7-a4pKnTzH",
        "colab_type": "code",
        "colab": {
          "base_uri": "https://localhost:8080/",
          "height": 72
        },
        "outputId": "684aa79c-f3ed-4181-89b5-ac89f771221c"
      },
      "source": [
        "large_phrase ='''This course uses a third-party tool, Lab: Polynomial Regression, \n",
        "to enhance your learning experience. \n",
        "The tool will reference basic information like your name, email, and Coursera ID.'''\n",
        "\n",
        "print(large_phrase)"
      ],
      "execution_count": null,
      "outputs": [
        {
          "output_type": "stream",
          "text": [
            "This course uses a third-party tool, Lab: Polynomial Regression, \n",
            "to enhance your learning experience. \n",
            "The tool will reference basic information like your name, email, and Coursera ID.\n"
          ],
          "name": "stdout"
        }
      ]
    },
    {
      "cell_type": "markdown",
      "metadata": {
        "id": "TV6nfW06rIAk",
        "colab_type": "text"
      },
      "source": [
        "Python allows raw strings(denoted by prefix r) with a new line character (\\n) which will print it as it is.\n"
      ]
    },
    {
      "cell_type": "code",
      "metadata": {
        "id": "u6EpgbncnxqQ",
        "colab_type": "code",
        "colab": {
          "base_uri": "https://localhost:8080/",
          "height": 128
        },
        "outputId": "009038fc-aea7-47d4-8380-c4408f535105"
      },
      "source": [
        "norm='This capstone project will be graded by your peers. This capstone project is worth 70% of your total grade. The project will be completed over the course of 2 weeks.\\n Week 1 submissions will be worth 30% whereas week 2 submissions will be worth 40% of your total grade.'\n",
        "print(\"Normal String with a special character :\")\n",
        "print(norm) #this is a normal string with a new line character (\\n) which will cause a new line at Week1.\n",
        "\n",
        "raw=r'This capstone project will be graded by your peers. This capstone project is worth 70% of your total grade. The project will be completed over the course of 2 weeks.\\n Week 1 submissions will be worth 30% whereas week 2 submissions will be worth 40% of your total grade.'\n",
        "print(\"Raw String with a special character:\")\n",
        "print(raw) #this is a raw string(denoted by r) with a new line character (\\n) which will print it as it is."
      ],
      "execution_count": null,
      "outputs": [
        {
          "output_type": "stream",
          "text": [
            "Normal String with a special character :\n",
            "This capstone project will be graded by your peers. This capstone project is worth 70% of your total grade. The project will be completed over the course of 2 weeks.\n",
            " Week 1 submissions will be worth 30% whereas week 2 submissions will be worth 40% of your total grade.\n",
            "Raw String with a special character:\n",
            "This capstone project will be graded by your peers. This capstone project is worth 70% of your total grade. The project will be completed over the course of 2 weeks.\\n Week 1 submissions will be worth 30% whereas week 2 submissions will be worth 40% of your total grade.\n"
          ],
          "name": "stdout"
        }
      ]
    },
    {
      "cell_type": "markdown",
      "metadata": {
        "id": "uTkzP7N1rRbs",
        "colab_type": "text"
      },
      "source": [
        "Case Manipulation with Strings"
      ]
    },
    {
      "cell_type": "code",
      "metadata": {
        "id": "H6vLowy-rRsQ",
        "colab_type": "code",
        "colab": {
          "base_uri": "https://localhost:8080/",
          "height": 36
        },
        "outputId": "6704c9a8-b46e-4e21-ce08-31084070dba7"
      },
      "source": [
        "name='Shubhobroto Dey'\n",
        "\n",
        "name.capitalize() #Caps first letter, rest small\n",
        "\n",
        "#name.upper() #all caps\n",
        "\n",
        "#name.lower() #all small\n",
        "\n",
        "#name.title() \n",
        "\n",
        "name.center(6,\" \") #puts the string in center with padding provided as arguments"
      ],
      "execution_count": null,
      "outputs": [
        {
          "output_type": "execute_result",
          "data": {
            "application/vnd.google.colaboratory.intrinsic+json": {
              "type": "string"
            },
            "text/plain": [
              "'Shubhobroto Dey'"
            ]
          },
          "metadata": {
            "tags": []
          },
          "execution_count": 7
        }
      ]
    },
    {
      "cell_type": "markdown",
      "metadata": {
        "id": "gQHDshLArSEH",
        "colab_type": "text"
      },
      "source": [
        "Useful String Methods \n",
        "\n",
        "All string methods return a new string and do not alter the original input."
      ]
    },
    {
      "cell_type": "code",
      "metadata": {
        "id": "BavP1NEKrSaW",
        "colab_type": "code",
        "colab": {}
      },
      "source": [
        "hero='Green Lantern'"
      ],
      "execution_count": 1,
      "outputs": []
    },
    {
      "cell_type": "code",
      "metadata": {
        "id": "CoIRw9kmeTal",
        "colab_type": "code",
        "colab": {
          "base_uri": "https://localhost:8080/",
          "height": 35
        },
        "outputId": "8f5e8eb4-73b8-476c-8973-9f1899aeaba2"
      },
      "source": [
        "len(hero) #returns length of the string"
      ],
      "execution_count": 23,
      "outputs": [
        {
          "output_type": "execute_result",
          "data": {
            "text/plain": [
              "13"
            ]
          },
          "metadata": {
            "tags": []
          },
          "execution_count": 23
        }
      ]
    },
    {
      "cell_type": "code",
      "metadata": {
        "id": "1u_bgAxaV4Wn",
        "colab_type": "code",
        "colab": {
          "base_uri": "https://localhost:8080/",
          "height": 35
        },
        "outputId": "09045c6e-99bb-4c73-bd93-bc13f18aa25c"
      },
      "source": [
        "hero.count('e') #counts the number of appearances of the character"
      ],
      "execution_count": 3,
      "outputs": [
        {
          "output_type": "execute_result",
          "data": {
            "text/plain": [
              "3"
            ]
          },
          "metadata": {
            "tags": []
          },
          "execution_count": 3
        }
      ]
    },
    {
      "cell_type": "code",
      "metadata": {
        "id": "zqMZmprXWIfb",
        "colab_type": "code",
        "colab": {
          "base_uri": "https://localhost:8080/",
          "height": 35
        },
        "outputId": "c2d9313e-0374-4c7d-ca95-8a3ce2fc3333"
      },
      "source": [
        "hero.endswith('l') #returns a boolean value for the character passed."
      ],
      "execution_count": 5,
      "outputs": [
        {
          "output_type": "execute_result",
          "data": {
            "text/plain": [
              "False"
            ]
          },
          "metadata": {
            "tags": []
          },
          "execution_count": 5
        }
      ]
    },
    {
      "cell_type": "code",
      "metadata": {
        "id": "UQWVIHnaWNyZ",
        "colab_type": "code",
        "colab": {
          "base_uri": "https://localhost:8080/",
          "height": 35
        },
        "outputId": "547e493b-06c0-4dc3-ac6b-5e65f147c70d"
      },
      "source": [
        "hero.startswith('G') #returns a boolean value for the character passed."
      ],
      "execution_count": 6,
      "outputs": [
        {
          "output_type": "execute_result",
          "data": {
            "text/plain": [
              "True"
            ]
          },
          "metadata": {
            "tags": []
          },
          "execution_count": 6
        }
      ]
    },
    {
      "cell_type": "code",
      "metadata": {
        "id": "_CyEpLXyWQvZ",
        "colab_type": "code",
        "colab": {
          "base_uri": "https://localhost:8080/",
          "height": 35
        },
        "outputId": "66a116c3-a18e-4d79-f355-5d25e50cf379"
      },
      "source": [
        "'Home' in hero #returns a boolean value for the substring passed."
      ],
      "execution_count": 12,
      "outputs": [
        {
          "output_type": "execute_result",
          "data": {
            "text/plain": [
              "False"
            ]
          },
          "metadata": {
            "tags": []
          },
          "execution_count": 12
        }
      ]
    },
    {
      "cell_type": "code",
      "metadata": {
        "id": "NLH2InmVWizP",
        "colab_type": "code",
        "colab": {
          "base_uri": "https://localhost:8080/",
          "height": 35
        },
        "outputId": "32e9ccda-d3cc-4187-e41b-c7afd7b2efcf"
      },
      "source": [
        "hero.index('n') #returns the index of the character. If not present raises a ValueError"
      ],
      "execution_count": 39,
      "outputs": [
        {
          "output_type": "execute_result",
          "data": {
            "text/plain": [
              "4"
            ]
          },
          "metadata": {
            "tags": []
          },
          "execution_count": 39
        }
      ]
    },
    {
      "cell_type": "code",
      "metadata": {
        "id": "s2xcdq8oWbvX",
        "colab_type": "code",
        "colab": {
          "base_uri": "https://localhost:8080/",
          "height": 35
        },
        "outputId": "8f9de74d-8892-4589-8c8e-8e38e138fd9e"
      },
      "source": [
        "hero.find('x') #can be a good alternative to the index method as it doesnot raise an exception if the character is not found."
      ],
      "execution_count": 10,
      "outputs": [
        {
          "output_type": "execute_result",
          "data": {
            "text/plain": [
              "-1"
            ]
          },
          "metadata": {
            "tags": []
          },
          "execution_count": 10
        }
      ]
    },
    {
      "cell_type": "code",
      "metadata": {
        "id": "2BLKfW88X_Eo",
        "colab_type": "code",
        "colab": {
          "base_uri": "https://localhost:8080/",
          "height": 35
        },
        "outputId": "627e9e76-d33b-4d01-de27-9d79320f1fe9"
      },
      "source": [
        "a='Welcome to the Wild Wild West'\n",
        "a.istitle()"
      ],
      "execution_count": 13,
      "outputs": [
        {
          "output_type": "execute_result",
          "data": {
            "text/plain": [
              "False"
            ]
          },
          "metadata": {
            "tags": []
          },
          "execution_count": 13
        }
      ]
    },
    {
      "cell_type": "code",
      "metadata": {
        "id": "zyzI5iGSYF6M",
        "colab_type": "code",
        "colab": {
          "base_uri": "https://localhost:8080/",
          "height": 35
        },
        "outputId": "9a36f780-9a8a-42ff-fc46-4f898dfced0e"
      },
      "source": [
        "'MaximBady'.isalpha() #returns FALSE if whitespaces included else checks if the string is alphabets"
      ],
      "execution_count": 19,
      "outputs": [
        {
          "output_type": "execute_result",
          "data": {
            "text/plain": [
              "True"
            ]
          },
          "metadata": {
            "tags": []
          },
          "execution_count": 19
        }
      ]
    },
    {
      "cell_type": "code",
      "metadata": {
        "id": "MWjzwbypYIQ8",
        "colab_type": "code",
        "colab": {
          "base_uri": "https://localhost:8080/",
          "height": 35
        },
        "outputId": "b12cc837-a467-4ef0-cf8a-11ec1b5bdfc3"
      },
      "source": [
        "a.isalnum()"
      ],
      "execution_count": 15,
      "outputs": [
        {
          "output_type": "execute_result",
          "data": {
            "text/plain": [
              "False"
            ]
          },
          "metadata": {
            "tags": []
          },
          "execution_count": 15
        }
      ]
    },
    {
      "cell_type": "markdown",
      "metadata": {
        "id": "1Jgrj2v2ehWN",
        "colab_type": "text"
      },
      "source": [
        "Fstrings : As of Python 3.6, f-strings are a great new way to format strings. Not only are they more readable, more concise, and less prone to error than other ways of formatting, but they are also faster!"
      ]
    },
    {
      "cell_type": "code",
      "metadata": {
        "id": "8ZA1bdvCevwc",
        "colab_type": "code",
        "colab": {
          "base_uri": "https://localhost:8080/",
          "height": 35
        },
        "outputId": "a3d526ef-c6a0-4b41-9820-364ba34a6296"
      },
      "source": [
        "salary=10000\n",
        "print(f'My first salary was {salary}')"
      ],
      "execution_count": 24,
      "outputs": [
        {
          "output_type": "stream",
          "text": [
            "My first salary was 10000\n"
          ],
          "name": "stdout"
        }
      ]
    },
    {
      "cell_type": "code",
      "metadata": {
        "id": "lEcd16Aze_z0",
        "colab_type": "code",
        "colab": {
          "base_uri": "https://localhost:8080/",
          "height": 35
        },
        "outputId": "adc38957-e4b0-4c96-c5cc-1de6d678ab8a"
      },
      "source": [
        "increment=5000\n",
        "print(f'I had an increment of {increment} and now my salary is {salary+increment}')"
      ],
      "execution_count": 27,
      "outputs": [
        {
          "output_type": "stream",
          "text": [
            "I had an increment of 5000 and now my salary is 15000\n"
          ],
          "name": "stdout"
        }
      ]
    },
    {
      "cell_type": "markdown",
      "metadata": {
        "id": "KMHAeo00fZ0_",
        "colab_type": "text"
      },
      "source": [
        "We can also use fstrings to perform conversions. Currently !s,!r and !a are allowed:\n",
        "1.   !s - converts to string.\n",
        "2.   !r - puts the string variable under quotes \n",
        "3.   !a - converts to ASCII.\n"
      ]
    },
    {
      "cell_type": "code",
      "metadata": {
        "id": "wlkXW-mHgOUV",
        "colab_type": "code",
        "colab": {
          "base_uri": "https://localhost:8080/",
          "height": 35
        },
        "outputId": "ce4ec21a-e59b-46f3-bfd6-be98997f64bb"
      },
      "source": [
        "my_list=[1,2,3,4,5,6]\n",
        "print(f'My list is {my_list!s}')"
      ],
      "execution_count": 28,
      "outputs": [
        {
          "output_type": "stream",
          "text": [
            "My list is [1, 2, 3, 4, 5, 6]\n"
          ],
          "name": "stdout"
        }
      ]
    },
    {
      "cell_type": "code",
      "metadata": {
        "id": "zRGVG2LagZpB",
        "colab_type": "code",
        "colab": {
          "base_uri": "https://localhost:8080/",
          "height": 35
        },
        "outputId": "fce02f9c-541c-4a74-9ddc-ef8d52178256"
      },
      "source": [
        "school=\"Aditya Adacdemy\"\n",
        "print(f'My school was {school!r}')"
      ],
      "execution_count": 30,
      "outputs": [
        {
          "output_type": "stream",
          "text": [
            "My school was 'Aditya Adacdemy'\n"
          ],
          "name": "stdout"
        }
      ]
    },
    {
      "cell_type": "code",
      "metadata": {
        "id": "gFTxgPrXiHmQ",
        "colab_type": "code",
        "colab": {
          "base_uri": "https://localhost:8080/",
          "height": 35
        },
        "outputId": "446a4b7d-683e-4ba4-ff6d-0c6646c30bf4"
      },
      "source": [
        "charac='A'\n",
        "print(f\"the ASCII value of {charac} is {charac!a}\")"
      ],
      "execution_count": 38,
      "outputs": [
        {
          "output_type": "stream",
          "text": [
            "the ASCII value of A is 'A'\n"
          ],
          "name": "stdout"
        }
      ]
    },
    {
      "cell_type": "markdown",
      "metadata": {
        "id": "_zmQTVUcjJNl",
        "colab_type": "text"
      },
      "source": [
        "String Manipulation"
      ]
    },
    {
      "cell_type": "markdown",
      "metadata": {
        "id": "jsdno5uQvXgU",
        "colab_type": "text"
      },
      "source": [
        "Multiple string manipulation methods are available in Python. Some of the most commenly used ones are as follows:"
      ]
    },
    {
      "cell_type": "code",
      "metadata": {
        "id": "ccoJFIVDiPqD",
        "colab_type": "code",
        "colab": {
          "base_uri": "https://localhost:8080/",
          "height": 53
        },
        "outputId": "79040c6c-6926-42dd-976a-3bd544ec8185"
      },
      "source": [
        "#concatenation\n",
        "name='Shubhobroto'\n",
        "lname='Dey'\n",
        "full_name=name+lname\n",
        "print(full_name)\n",
        "\n",
        "strng=\"SD\"\n",
        "print(strng*5)"
      ],
      "execution_count": 41,
      "outputs": [
        {
          "output_type": "stream",
          "text": [
            "ShubhobrotoDey\n",
            "SDSDSDSDSD\n"
          ],
          "name": "stdout"
        }
      ]
    },
    {
      "cell_type": "code",
      "metadata": {
        "id": "vBWYT6Mcv86L",
        "colab_type": "code",
        "colab": {
          "base_uri": "https://localhost:8080/",
          "height": 35
        },
        "outputId": "fef48e86-b1f8-4845-9196-d0652aac4181"
      },
      "source": [
        "#Working with whitespaces\n",
        "input='  The Hall of Justice  '\n",
        "\n",
        "out=input.strip()\n",
        "print(out)"
      ],
      "execution_count": 50,
      "outputs": [
        {
          "output_type": "stream",
          "text": [
            "The Hall of Justice\n"
          ],
          "name": "stdout"
        }
      ]
    },
    {
      "cell_type": "code",
      "metadata": {
        "id": "cWZah4izwUoQ",
        "colab_type": "code",
        "colab": {
          "base_uri": "https://localhost:8080/",
          "height": 36
        },
        "outputId": "df4dac1f-1970-41e7-d014-ec71726504f1"
      },
      "source": [
        "input.lstrip()"
      ],
      "execution_count": 43,
      "outputs": [
        {
          "output_type": "execute_result",
          "data": {
            "application/vnd.google.colaboratory.intrinsic+json": {
              "type": "string"
            },
            "text/plain": [
              "'The Hall of Justice  '"
            ]
          },
          "metadata": {
            "tags": []
          },
          "execution_count": 43
        }
      ]
    },
    {
      "cell_type": "code",
      "metadata": {
        "id": "Nz6dK7QRwXe4",
        "colab_type": "code",
        "colab": {
          "base_uri": "https://localhost:8080/",
          "height": 36
        },
        "outputId": "6621d525-b436-4ce3-d0d2-16d4a984bbd4"
      },
      "source": [
        "input.rstrip()"
      ],
      "execution_count": 44,
      "outputs": [
        {
          "output_type": "execute_result",
          "data": {
            "application/vnd.google.colaboratory.intrinsic+json": {
              "type": "string"
            },
            "text/plain": [
              "'  The Hall of Justice'"
            ]
          },
          "metadata": {
            "tags": []
          },
          "execution_count": 44
        }
      ]
    },
    {
      "cell_type": "code",
      "metadata": {
        "id": "OhgF7HBDwZn7",
        "colab_type": "code",
        "colab": {
          "base_uri": "https://localhost:8080/",
          "height": 36
        },
        "outputId": "3ef0d775-03f0-45d7-c557-fc20ec81fa26"
      },
      "source": [
        "input.rstrip(' Justice  ')"
      ],
      "execution_count": 47,
      "outputs": [
        {
          "output_type": "execute_result",
          "data": {
            "application/vnd.google.colaboratory.intrinsic+json": {
              "type": "string"
            },
            "text/plain": [
              "'  The Hall of'"
            ]
          },
          "metadata": {
            "tags": []
          },
          "execution_count": 47
        }
      ]
    },
    {
      "cell_type": "code",
      "metadata": {
        "id": "hB_MkLEVxAgo",
        "colab_type": "code",
        "colab": {
          "base_uri": "https://localhost:8080/",
          "height": 36
        },
        "outputId": "c0964ba2-75e7-42a9-93e0-000e32b6a9ee"
      },
      "source": [
        "#padding strings\n",
        "\n",
        "ip='Shubhobroto Dey'\n",
        "ip.center(4) #Returns a centered string"
      ],
      "execution_count": 55,
      "outputs": [
        {
          "output_type": "execute_result",
          "data": {
            "application/vnd.google.colaboratory.intrinsic+json": {
              "type": "string"
            },
            "text/plain": [
              "'Shubhobroto Dey'"
            ]
          },
          "metadata": {
            "tags": []
          },
          "execution_count": 55
        }
      ]
    },
    {
      "cell_type": "code",
      "metadata": {
        "id": "A8AcxqdPxmIL",
        "colab_type": "code",
        "colab": {
          "base_uri": "https://localhost:8080/",
          "height": 36
        },
        "outputId": "9adc2107-1773-489f-b03c-dc5b2912f844"
      },
      "source": [
        "ip.rjust(50) #\tReturns a right justified version of the string"
      ],
      "execution_count": 60,
      "outputs": [
        {
          "output_type": "execute_result",
          "data": {
            "application/vnd.google.colaboratory.intrinsic+json": {
              "type": "string"
            },
            "text/plain": [
              "'                                   Shubhobroto Dey'"
            ]
          },
          "metadata": {
            "tags": []
          },
          "execution_count": 60
        }
      ]
    },
    {
      "cell_type": "code",
      "metadata": {
        "id": "irDvUHmfx5k4",
        "colab_type": "code",
        "colab": {
          "base_uri": "https://localhost:8080/",
          "height": 36
        },
        "outputId": "89403d92-0098-4bd0-91d8-f4d6583d50a1"
      },
      "source": [
        "ip.ljust(30) #\tReturns a left justified version of the string"
      ],
      "execution_count": 61,
      "outputs": [
        {
          "output_type": "execute_result",
          "data": {
            "application/vnd.google.colaboratory.intrinsic+json": {
              "type": "string"
            },
            "text/plain": [
              "'Shubhobroto Dey               '"
            ]
          },
          "metadata": {
            "tags": []
          },
          "execution_count": 61
        }
      ]
    },
    {
      "cell_type": "code",
      "metadata": {
        "id": "QOUuJFmnyFt6",
        "colab_type": "code",
        "colab": {
          "base_uri": "https://localhost:8080/",
          "height": 90
        },
        "outputId": "27740b8d-6225-4892-831f-6c39cfa6b660"
      },
      "source": [
        "#ljust and rjust has its real world application when formatting an output to user.\n",
        "city=['Kolkata','New Delhi','Mumbai','Bangalore']\n",
        "for c in city:\n",
        "  print(c.ljust(10))\n"
      ],
      "execution_count": 66,
      "outputs": [
        {
          "output_type": "stream",
          "text": [
            "Kolkata   \n",
            "New Delhi \n",
            "Mumbai    \n",
            "Bangalore \n"
          ],
          "name": "stdout"
        }
      ]
    },
    {
      "cell_type": "code",
      "metadata": {
        "id": "HF5AP7lR-aEM",
        "colab_type": "code",
        "colab": {
          "base_uri": "https://localhost:8080/",
          "height": 36
        },
        "outputId": "911ebd78-4e69-447c-e2fd-b8bea6af9b4b"
      },
      "source": [
        "#zfill : pads integer values, while retaining negative value.\n",
        "i='-6'\n",
        "i.zfill(5)"
      ],
      "execution_count": 69,
      "outputs": [
        {
          "output_type": "execute_result",
          "data": {
            "application/vnd.google.colaboratory.intrinsic+json": {
              "type": "string"
            },
            "text/plain": [
              "'-0006'"
            ]
          },
          "metadata": {
            "tags": []
          },
          "execution_count": 69
        }
      ]
    },
    {
      "cell_type": "code",
      "metadata": {
        "id": "CZhkN4ubwiZ9",
        "colab_type": "code",
        "colab": {
          "base_uri": "https://localhost:8080/",
          "height": 35
        },
        "outputId": "5bec4a6b-7e14-49b6-8947-4fcadb361d2b"
      },
      "source": [
        "#splitting strings\n",
        "InputString='Zack Snyder\\'s Justice League' #using regular expression to nullify the single quote\n",
        "words=InputString.split(' ') #storing the split up words in a variable\n",
        "print(words)"
      ],
      "execution_count": 82,
      "outputs": [
        {
          "output_type": "stream",
          "text": [
            "['Zack', \"Snyder's\", 'Justice', 'League']\n"
          ],
          "name": "stdout"
        }
      ]
    },
    {
      "cell_type": "code",
      "metadata": {
        "id": "fzmskmHtAEsY",
        "colab_type": "code",
        "colab": {
          "base_uri": "https://localhost:8080/",
          "height": 35
        },
        "outputId": "ecfa1d72-f237-44c5-e02b-1d92a1880c67"
      },
      "source": [
        "#joining the words stored in the variable, to create another string.\n",
        "new_op='#'.join(words) #whitespace replaced by #\n",
        "print(new_op)"
      ],
      "execution_count": 81,
      "outputs": [
        {
          "output_type": "stream",
          "text": [
            "Zack#Snyder's#Justice#League\n"
          ],
          "name": "stdout"
        }
      ]
    },
    {
      "cell_type": "code",
      "metadata": {
        "id": "ojXRDDQJDZb3",
        "colab_type": "code",
        "colab": {
          "base_uri": "https://localhost:8080/",
          "height": 108
        },
        "outputId": "f852cecb-9973-4ace-bbe2-f5bfe70261f4"
      },
      "source": [
        "#slicing strings can be fun too. Python allows you to slice the strings using their indices.\n",
        "InputString='Zack Snyder\\'s Justice League' #using regular expression to nullify the single quote\n",
        "print('Input String:',InputString)\n",
        "fc=InputString[0]\n",
        "print('First Character:',fc)\n",
        "lc=InputString[-1]\n",
        "print('Last Character:',lc)\n",
        "slice1=InputString[:11] #split the string from start, i.e str[0] to 10th character. 11th character is not included\n",
        "print('Sliced from the start:' , slice1)\n",
        "slice2=InputString[5:11]\n",
        "print('A Portion of the string sliced:' , slice2)"
      ],
      "execution_count": 95,
      "outputs": [
        {
          "output_type": "stream",
          "text": [
            "Input String: Zack Snyder's Justice League\n",
            "First Character: Z\n",
            "Last Character: e\n",
            "Sliced from the start: Zack Snyder\n",
            "A Portion of the string sliced: Snyder\n"
          ],
          "name": "stdout"
        }
      ]
    },
    {
      "cell_type": "code",
      "metadata": {
        "id": "aET_WYM1A7Ao",
        "colab_type": "code",
        "colab": {
          "base_uri": "https://localhost:8080/",
          "height": 126
        },
        "outputId": "05099a82-90cd-4150-f4db-b678671cbe72"
      },
      "source": [
        "#we can use the splitline method to split on new line character \\n\n",
        "InputString2='This is a test line. 1\\nThis is a test line. 2\\nThis is a test line. 3\\nThis is a test line. 4\\nThis is a test line. 5\\nThis is a test line. 6\\n'\n",
        "mul_line=InputString2.splitlines()\n",
        "for i in mul_line:\n",
        "  print(i)"
      ],
      "execution_count": 83,
      "outputs": [
        {
          "output_type": "stream",
          "text": [
            "This is a test line. 1\n",
            "This is a test line. 2\n",
            "This is a test line. 3\n",
            "This is a test line. 4\n",
            "This is a test line. 5\n",
            "This is a test line. 6\n"
          ],
          "name": "stdout"
        }
      ]
    },
    {
      "cell_type": "markdown",
      "metadata": {
        "id": "WtqFi9q-imnU",
        "colab_type": "text"
      },
      "source": [
        " [More String Methods here](https://www.w3schools.com/python/python_strings.asp)"
      ]
    },
    {
      "cell_type": "markdown",
      "metadata": {
        "id": "N6W0KJHnWt3Z",
        "colab_type": "text"
      },
      "source": [
        "**Unicode Encoding** \n",
        "\n",
        "Python3 allows more ways to encod data in its disks. The utf-8 encoding is the standard across Python. This allows the users to use special characters like π and 😉\n"
      ]
    },
    {
      "cell_type": "code",
      "metadata": {
        "id": "AJeJ3aNbXUbJ",
        "colab_type": "code",
        "colab": {
          "base_uri": "https://localhost:8080/",
          "height": 36
        },
        "outputId": "9020b45e-6743-43a0-c48e-b5233b960a56"
      },
      "source": [
        "a='ππ'\n",
        "a"
      ],
      "execution_count": 96,
      "outputs": [
        {
          "output_type": "execute_result",
          "data": {
            "application/vnd.google.colaboratory.intrinsic+json": {
              "type": "string"
            },
            "text/plain": [
              "'ππ'"
            ]
          },
          "metadata": {
            "tags": []
          },
          "execution_count": 96
        }
      ]
    },
    {
      "cell_type": "code",
      "metadata": {
        "id": "H8VOYntnXiBZ",
        "colab_type": "code",
        "colab": {
          "base_uri": "https://localhost:8080/",
          "height": 36
        },
        "outputId": "ccc8c4e4-a9b5-446a-9618-3d9eba1ca248"
      },
      "source": [
        "a_π='Pie in variable'\n",
        "a_π"
      ],
      "execution_count": 97,
      "outputs": [
        {
          "output_type": "execute_result",
          "data": {
            "application/vnd.google.colaboratory.intrinsic+json": {
              "type": "string"
            },
            "text/plain": [
              "'Pie in variable'"
            ]
          },
          "metadata": {
            "tags": []
          },
          "execution_count": 97
        }
      ]
    },
    {
      "cell_type": "code",
      "metadata": {
        "id": "uBHBblXVZAc5",
        "colab_type": "code",
        "colab": {
          "base_uri": "https://localhost:8080/",
          "height": 36
        },
        "outputId": "9ac486c8-0a9c-4d08-a633-5310087cdbc2"
      },
      "source": [
        "charac=\"\\u0394\" #using Hexadecimal value\n",
        "charac"
      ],
      "execution_count": 107,
      "outputs": [
        {
          "output_type": "execute_result",
          "data": {
            "application/vnd.google.colaboratory.intrinsic+json": {
              "type": "string"
            },
            "text/plain": [
              "'Δ'"
            ]
          },
          "metadata": {
            "tags": []
          },
          "execution_count": 107
        }
      ]
    },
    {
      "cell_type": "code",
      "metadata": {
        "id": "x_X-fbqpXnkc",
        "colab_type": "code",
        "colab": {
          "base_uri": "https://localhost:8080/",
          "height": 36
        },
        "outputId": "0ab77938-3528-4d7e-9f11-f14ed61ed0d8"
      },
      "source": [
        "eight='\\N{ROMAN NUMERAL EIGHT}' #using character name\n",
        "eight"
      ],
      "execution_count": 106,
      "outputs": [
        {
          "output_type": "execute_result",
          "data": {
            "application/vnd.google.colaboratory.intrinsic+json": {
              "type": "string"
            },
            "text/plain": [
              "'Ⅷ'"
            ]
          },
          "metadata": {
            "tags": []
          },
          "execution_count": 106
        }
      ]
    },
    {
      "cell_type": "code",
      "metadata": {
        "id": "dYddEjKDZNRb",
        "colab_type": "code",
        "colab": {
          "base_uri": "https://localhost:8080/",
          "height": 36
        },
        "outputId": "d37811d1-29d8-4cbd-813e-4d022ef92968"
      },
      "source": [
        "smily=\"\\N{WINKING FACE}\"\n",
        "smily"
      ],
      "execution_count": 108,
      "outputs": [
        {
          "output_type": "execute_result",
          "data": {
            "application/vnd.google.colaboratory.intrinsic+json": {
              "type": "string"
            },
            "text/plain": [
              "'😉'"
            ]
          },
          "metadata": {
            "tags": []
          },
          "execution_count": 108
        }
      ]
    },
    {
      "cell_type": "markdown",
      "metadata": {
        "id": "YYCyPE53ahgC",
        "colab_type": "text"
      },
      "source": [
        "Writing Files in unicode encoding.\n"
      ]
    },
    {
      "cell_type": "code",
      "metadata": {
        "id": "Ncr4hWgUZsJo",
        "colab_type": "code",
        "colab": {
          "base_uri": "https://localhost:8080/",
          "height": 35
        },
        "outputId": "357b6875-644e-4d28-c717-02a87e1e0bbb"
      },
      "source": [
        "with open('new_file.txt','w',encoding='utf-8') as open_file: #opening a file in write mode with utf8 encoding\n",
        "  open_file.write(\"This is a test code\") #writing to opened file\n",
        "\n",
        "!cat new_file.txt #checking contents of file."
      ],
      "execution_count": 110,
      "outputs": [
        {
          "output_type": "stream",
          "text": [
            "This is a test code"
          ],
          "name": "stdout"
        }
      ]
    }
  ]
}